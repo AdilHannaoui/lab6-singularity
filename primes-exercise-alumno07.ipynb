{
 "cells": [
  {
   "cell_type": "markdown",
   "metadata": {},
   "source": [
    "## Cálculo de cuántos números primos hay en un intervalo"
   ]
  },
  {
   "cell_type": "code",
   "execution_count": 4,
   "metadata": {},
   "outputs": [],
   "source": [
    "def prime_count_vanilla_range(range_from: int, range_til: int):\n",
    "    \"\"\" Returns the number of found prime numbers using range\"\"\"\n",
    "    prime_count = 0\n",
    "    range_from = range_from if range_from >= 2 else 2\n",
    "    for num in range(range_from, range_til + 1):\n",
    "        for divnum in range(2, num):\n",
    "            if ((num % divnum) == 0):\n",
    "                break\n",
    "            else:\n",
    "                prime_count += 1\n",
    "    return prime_count"
   ]
  },
  {
   "cell_type": "markdown",
   "metadata": {},
   "source": [
    "### Option 1: Calculate each number sequentially (spoiler: this is really inefficient)"
   ]
  },
  {
   "cell_type": "code",
   "execution_count": 6,
   "metadata": {},
   "outputs": [
    {
     "name": "stdout",
     "output_type": "stream",
     "text": [
      "Números primos encontrados en el intervalo [(1, 60000)]: 172199035\n",
      "Tiempo total para encontrarlos: 99.293789s\n"
     ]
    }
   ],
   "source": [
    "import time\n",
    "\n",
    "numbers = [(1, 60000)]\n",
    "\n",
    "start_time = time.time()\n",
    "\n",
    "#  Truqillo para pasarle varios parámetros a una función\n",
    "\n",
    "for pair in numbers:\n",
    "    prime_sum = prime_count_vanilla_range(*pair)\n",
    "\n",
    "end_time = time.time()\n",
    "\n",
    "print(f'Números primos encontrados en el intervalo {numbers}: {prime_sum}')\n",
    "print(f'Tiempo total para encontrarlos: {end_time - start_time:2f}s')"
   ]
  },
  {
   "cell_type": "code",
   "execution_count": 7,
   "metadata": {},
   "outputs": [
    {
     "name": "stdout",
     "output_type": "stream",
     "text": [
      "Números primos encontrados en el intervalo [(1, 60000)]: 172199035\n",
      "CPU times: user 1min 38s, sys: 17.7 ms, total: 1min 38s\n",
      "Wall time: 1min 39s\n"
     ]
    }
   ],
   "source": [
    "%%time\n",
    "%timeit -r2\n",
    "numbers = [(1, 60000)]\n",
    "\n",
    "#start_time = time.time()\n",
    "\n",
    "#  Truqillo para pasarle varios parámetros a una función\n",
    "\n",
    "for pair in numbers:\n",
    "    prime_sum = prime_count_vanilla_range(*pair)\n",
    "\n",
    "#end_time = time.time()\n",
    "\n",
    "print(f'Números primos encontrados en el intervalo {numbers}: {prime_sum}')\n",
    "#print(f'Tiempo total para encontrarlos: {end_time - start_time:2f}s')"
   ]
  },
  {
   "cell_type": "markdown",
   "metadata": {},
   "source": [
    "Utilizando las funciones mágicas de IPython se puede observar que el tiempo que se tarda en realizar la función es ligeramente diferente. El motivo de esto se debe a que, al importar el paquete time, se nos mide el tiempo en que tarda en ejecutarse la función una sola vez. Por el contrario, las funciones mágicas utilizadas realizan la ejecución del programa un número determinado de veces y calculan el promedio de tiempo que toma dicha ejecución. En este caso, al especificar el modificador -r2, el programa se ejecuta 2 veces y se calcula el tiempo medio que ha tardado en ejecutarse."
   ]
  },
  {
   "cell_type": "markdown",
   "metadata": {},
   "source": [
    "### A Python Implementation Using Numba: The fastest"
   ]
  },
  {
   "cell_type": "code",
   "execution_count": 3,
   "metadata": {},
   "outputs": [
    {
     "name": "stdout",
     "output_type": "stream",
     "text": [
      "Números primos encontrados en el intervalo [(1, 60000)]: 172199035\n",
      "Tiempo total para encontrarlos: 2.778382s\n"
     ]
    }
   ],
   "source": [
    "import time\n",
    "import numba\n",
    "from numba import njit\n",
    "\n",
    "# The same implementation as prime_count_vanilla_range w/ @njit before\n",
    "@njit\n",
    "def prime_count_numba(range_from: int, range_til: int):\n",
    "    \"\"\" Returns the number of found prime numbers using range\"\"\"\n",
    "    prime_count = 0\n",
    "    range_from = range_from if range_from >= 2 else 2\n",
    "    for num in range(range_from, range_til + 1):\n",
    "        for divnum in range(2, num):\n",
    "            if ((num % divnum) == 0):\n",
    "                break\n",
    "            else:\n",
    "                prime_count += 1\n",
    "    return prime_count\n",
    "\n",
    "numbers = [(1, 60000)]\n",
    "\n",
    "start_time = time.time()\n",
    "\n",
    "#  Truqillo para pasarle varios parámetros a una función\n",
    "for pair in numbers:\n",
    "    prime_sum = prime_count_numba(*pair)\n",
    "\n",
    "end_time = time.time()\n",
    "\n",
    "start_time = time.time()\n",
    "\n",
    "#  Truqillo para pasarle varios parámetros a una función\n",
    "for pair in numbers:\n",
    "    prime_sum = prime_count_numba(*pair)\n",
    "\n",
    "end_time = time.time()\n",
    "\n",
    "print(f'Números primos encontrados en el intervalo {numbers}: {prime_sum}')\n",
    "print(f'Tiempo total para encontrarlos: {end_time - start_time:2f}s')"
   ]
  },
  {
   "cell_type": "markdown",
   "metadata": {},
   "source": [
    "Para poder ejecutar la función con el paquete numba y decorador @njit correctamente, es necesario que el código se compile previamente antes de ejecutarse. Esta compilación consiste en una traducción del código a lenguaje de máquina, que posteriormente se ejecutará de manera más óptima. Este primer paso tiene lugar con la primera llamada de la función. Finalmente, es necesario volver a llamar la función para que, una vez compilada con la llamada previa, se ejecute."
   ]
  },
  {
   "cell_type": "markdown",
   "metadata": {},
   "source": [
    "### Parallel 1: Using multiprocessing to parallelise"
   ]
  },
  {
   "cell_type": "code",
   "execution_count": 8,
   "metadata": {},
   "outputs": [
    {
     "name": "stdout",
     "output_type": "stream",
     "text": [
      "[5766453, 15483380, 24562880, 33560052, 41914240, 50912030]\n",
      "Números primos encontrados en el intervalo [(1, 60000)]: 172199035\n",
      "Tiempo total para encontrarlos: 29.126132s\n"
     ]
    }
   ],
   "source": [
    "import multiprocessing\n",
    "import time\n",
    "\n",
    "numbers = [(1, 60000)]\n",
    "intervals = [(1, 10000), (10001, 20000), (20001, 30000), (30001, 40000), (40001, 50000), (50001, 60000)]\n",
    "\n",
    "start_time = time.time()\n",
    "\n",
    "# Execute asynchronously with multi processing\n",
    "# Using starmap as the function has several parameters\n",
    "\n",
    "with multiprocessing.Pool(processes=6) as pool:\n",
    "    result = pool.starmap(prime_count_vanilla_range, intervals)\n",
    "                     \n",
    "end_time = time.time()\n",
    "\n",
    "print(list(result))\n",
    "\n",
    "prime_sum = sum(result)\n",
    "\n",
    "print(f'Números primos encontrados en el intervalo {numbers}: {prime_sum}')\n",
    "print(f'Tiempo total para encontrarlos: {end_time - start_time:2f}s')"
   ]
  },
  {
   "cell_type": "markdown",
   "metadata": {},
   "source": [
    "### Parallel 2: Using concurrent.futures (map) to parallelise"
   ]
  },
  {
   "cell_type": "code",
   "execution_count": 9,
   "metadata": {},
   "outputs": [
    {
     "name": "stdout",
     "output_type": "stream",
     "text": [
      "[5766453, 15483380, 24562880, 33560052, 41914240, 50912030]\n",
      "Números primos encontrados en el intervalo [(1, 60000)]: 172199035\n",
      "Tiempo total para encontrarlos: 26.172790s\n"
     ]
    }
   ],
   "source": [
    "import concurrent.futures\n",
    "import time\n",
    "\n",
    "numbers = [(1, 60000)]\n",
    "intervals = [(1, 10000), (10001, 20000), (20001, 30000), (30001, 40000), (40001, 50000), (50001, 60000)]\n",
    "\n",
    "# La función necesita varios parámetros \n",
    "# Truqillo para pasarle varios parámetros a una función haciendo otra función como intermedia\n",
    "\n",
    "def run_heavy_function(params):\n",
    "    return prime_count_vanilla_range(*params)\n",
    "\n",
    "start_time = time.time()\n",
    "# Execute asynchronously with multi processing\n",
    "\n",
    "with concurrent.futures.ProcessPoolExecutor(max_workers=6) as executor:\n",
    "    resul = executor.map(run_heavy_function, intervals)\n",
    "\n",
    "end_time = time.time()\n",
    "\n",
    "resultados = list(resul)\n",
    "\n",
    "print(resultados)\n",
    "\n",
    "prime_sum = sum(resultados)\n",
    "\n",
    "print(f'Números primos encontrados en el intervalo {numbers}: {prime_sum}')\n",
    "print(f'Tiempo total para encontrarlos: {end_time - start_time:2f}s')"
   ]
  },
  {
   "cell_type": "markdown",
   "metadata": {},
   "source": [
    "### Parallel 3: Using concurrent.futures (submit) to parallelise"
   ]
  },
  {
   "cell_type": "code",
   "execution_count": 10,
   "metadata": {},
   "outputs": [
    {
     "name": "stdout",
     "output_type": "stream",
     "text": [
      "[5766453, 15483380, 24562880, 33560052, 41914240, 50912030]\n",
      "Números primos encontrados en el intervalo [(1, 60000)]: 172199035\n",
      "Tiempo total para encontrarlos: 26.343096s\n"
     ]
    }
   ],
   "source": [
    "!pip install boltons\n",
    "import concurrent.futures\n",
    "import time\n",
    "from boltons import iterutils as ite\n",
    "\n",
    "numbers = [(1, 60000)]\n",
    "#intervals = [(1, 10000), (10001, 20000), (20001, 30000), (30001, 40000), (40001, 50000), (50001, 60000)]\n",
    "\n",
    "start_time = time.time()\n",
    "# Execute asynchronously with multi processing\n",
    "\n",
    "with concurrent.futures.ProcessPoolExecutor(max_workers=6) as exe:\n",
    "    jobs = []\n",
    "    for frm, to in ite.chunk_ranges(input_size=60000, chunk_size=10000):\n",
    "        job = exe.submit(prime_count_vanilla_range, frm, to)\n",
    "        jobs.append(job)\n",
    "\n",
    "end_time = time.time()\n",
    "\n",
    "print([job.result() for job in jobs])\n",
    "\n",
    "prime_sum = sum(job.result() for job in jobs)\n",
    "\n",
    "print(f'Números primos encontrados en el intervalo {numbers}: {prime_sum}')\n",
    "print(f'Tiempo total para encontrarlos: {end_time - start_time:2f}s')"
   ]
  },
  {
   "cell_type": "markdown",
   "metadata": {},
   "source": [
    "Como se puede observar, haciendo uso del paralelismo, la búsqueda de los números primos aumenta hasta 5 veces más. El hecho de que este incremento no haya sido de 6 indica que la división del trabajo en intervalos no ha sido llevada a cabo correctamente o simplemente la sincronización se traduzca en un pequeño retraso en la velocidad. Esto se puede deber a diferentes motivos. Uno de ellos puede ser el hecho de que existan recursos compartidos."
   ]
  },
  {
   "cell_type": "markdown",
   "metadata": {},
   "source": [
    "## Combinando procesamiento paralelo con numba"
   ]
  },
  {
   "cell_type": "code",
   "execution_count": 11,
   "metadata": {},
   "outputs": [
    {
     "name": "stdout",
     "output_type": "stream",
     "text": [
      "[5766453, 15483380, 24562880, 33560052, 41914240, 50912030]\n",
      "Números primos encontrados en el intervalo [(1, 60000)]: 172199035\n",
      "Tiempo total para encontrarlos: 1.997588s\n"
     ]
    }
   ],
   "source": [
    "import multiprocessing\n",
    "import time\n",
    "\n",
    "numbers = [(1, 60000)]\n",
    "intervals = [(1, 10000), (10001, 20000), (20001, 30000), (30001, 40000), (40001, 50000), (50001, 60000)]\n",
    "\n",
    "start_time = time.time()\n",
    "\n",
    "# Execute asynchronously with multi processing\n",
    "# Using starmap as the function has several parameters\n",
    "\n",
    "with multiprocessing.Pool(processes=6) as pool:\n",
    "    result = pool.starmap(prime_count_numba, intervals)\n",
    "                     \n",
    "end_time = time.time()\n",
    "\n",
    "print(list(result))\n",
    "\n",
    "prime_sum = sum(result)\n",
    "\n",
    "print(f'Números primos encontrados en el intervalo {numbers}: {prime_sum}')\n",
    "print(f'Tiempo total para encontrarlos: {end_time - start_time:2f}s')"
   ]
  },
  {
   "cell_type": "code",
   "execution_count": 12,
   "metadata": {},
   "outputs": [
    {
     "name": "stdout",
     "output_type": "stream",
     "text": [
      "[5766453, 15483380, 24562880, 33560052, 41914240, 50912030]\n",
      "Números primos encontrados en el intervalo [(1, 60000)]: 172199035\n",
      "Tiempo total para encontrarlos: 0.935403s\n"
     ]
    }
   ],
   "source": [
    "import concurrent.futures\n",
    "import time\n",
    "\n",
    "numbers = [(1, 60000)]\n",
    "intervals = [(1, 10000), (10001, 20000), (20001, 30000), (30001, 40000), (40001, 50000), (50001, 60000)]\n",
    "\n",
    "# La función necesita varios parámetros \n",
    "# Truqillo para pasarle varios parámetros a una función haciendo otra función como intermedia\n",
    "\n",
    "def run_heavy_function(params):\n",
    "    return prime_count_numba(*params)\n",
    "\n",
    "start_time = time.time()\n",
    "# Execute asynchronously with multi processing\n",
    "\n",
    "with concurrent.futures.ProcessPoolExecutor(max_workers=6) as executor:\n",
    "    resul = executor.map(run_heavy_function, intervals)\n",
    "\n",
    "end_time = time.time()\n",
    "\n",
    "resultados = list(resul)\n",
    "\n",
    "print(resultados)\n",
    "\n",
    "prime_sum = sum(resultados)\n",
    "\n",
    "print(f'Números primos encontrados en el intervalo {numbers}: {prime_sum}')\n",
    "print(f'Tiempo total para encontrarlos: {end_time - start_time:2f}s')"
   ]
  },
  {
   "cell_type": "code",
   "execution_count": 13,
   "metadata": {},
   "outputs": [
    {
     "name": "stdout",
     "output_type": "stream",
     "text": [
      "[5766453, 15483380, 24562880, 33560052, 41914240, 50912030]\n",
      "Números primos encontrados en el intervalo [(1, 60000)]: 172199035\n",
      "Tiempo total para encontrarlos: 1.024462s\n"
     ]
    }
   ],
   "source": [
    "import concurrent.futures\n",
    "import time\n",
    "from boltons import iterutils as ite\n",
    "\n",
    "numbers = [(1, 60000)]\n",
    "intervals = [(1, 10000), (10001, 20000), (20001, 30000), (30001, 40000), (40001, 50000), (50001, 60000)]\n",
    "\n",
    "start_time = time.time()\n",
    "# Execute asynchronously with multi processing\n",
    "\n",
    "with concurrent.futures.ProcessPoolExecutor(max_workers=6) as exe:\n",
    "    jobs = []\n",
    "    for frm, to in ite.chunk_ranges(input_size=60000, chunk_size=10000):\n",
    "        job = exe.submit(prime_count_numba, frm, to)\n",
    "        jobs.append(job)\n",
    "\n",
    "end_time = time.time()\n",
    "\n",
    "print([job.result() for job in jobs])\n",
    "\n",
    "prime_sum = sum(job.result() for job in jobs)\n",
    "\n",
    "print(f'Números primos encontrados en el intervalo {numbers}: {prime_sum}')\n",
    "print(f'Tiempo total para encontrarlos: {end_time - start_time:2f}s')"
   ]
  },
  {
   "cell_type": "markdown",
   "metadata": {},
   "source": [
    "Para poder combinar la ejecución paralela con la llevada a cabo con el código numba, he sustituido la función a la que se llama por esta última. Como resultado, se tiene que en ambas implementaciones el tiempo que tarda en ejecutar el programa se reduce drásticamente, siendo en los dos últimos casos de apenas 1 segundo."
   ]
  },
  {
   "cell_type": "code",
   "execution_count": null,
   "metadata": {},
   "outputs": [],
   "source": []
  }
 ],
 "metadata": {
  "kernelspec": {
   "display_name": "Python 3",
   "language": "python",
   "name": "python3"
  },
  "language_info": {
   "codemirror_mode": {
    "name": "ipython",
    "version": 3
   },
   "file_extension": ".py",
   "mimetype": "text/x-python",
   "name": "python",
   "nbconvert_exporter": "python",
   "pygments_lexer": "ipython3",
   "version": "3.8.5"
  }
 },
 "nbformat": 4,
 "nbformat_minor": 4
}
